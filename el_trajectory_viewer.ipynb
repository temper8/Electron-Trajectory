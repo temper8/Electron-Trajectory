{
 "cells": [
  {
   "cell_type": "markdown",
   "id": "a1664d83-fb88-4871-b7b2-39e4ae46f7ae",
   "metadata": {
    "scrolled": true
   },
   "source": [
    "\n",
    "### Electron trajctory viewer\n"
   ]
  },
  {
   "cell_type": "code",
   "execution_count": null,
   "id": "d80f0965",
   "metadata": {},
   "outputs": [],
   "source": [
    "import numpy as np\n",
    "import pandas as pd\n",
    "\n",
    "df = pd.read_pickle('result.pkl')\n",
    "df.head"
   ]
  },
  {
   "cell_type": "code",
   "execution_count": null,
   "id": "446c6635",
   "metadata": {},
   "outputs": [],
   "source": [
    "import matplotlib.pyplot as plt    \n",
    "ax = df.plot(x= 'rnp', y='thetnp', kind='line', title='My Line Plot')\n",
    "plt.show()"
   ]
  },
  {
   "cell_type": "code",
   "execution_count": null,
   "id": "154cf9b1",
   "metadata": {},
   "outputs": [],
   "source": [
    "from parameters import *\n",
    "df['tnp']=df['tnp1']/ccc_R0*tau_norm\n",
    "#print(len(tnp),'tnp[0]=',tnp[0],'tnp[len(tnp)-1]=',tnp[len(tnp)-1])\n"
   ]
  },
  {
   "cell_type": "code",
   "execution_count": null,
   "id": "eecc1ba6-fbf7-4173-9bd3-7239db8a3fc9",
   "metadata": {
    "scrolled": true
   },
   "outputs": [],
   "source": [
    "\n",
    "import matplotlib.pyplot as plt\n",
    "\n",
    "\n",
    "fig, ax = plt.subplots(subplot_kw={'projection': 'polar'})\n",
    "ax.plot(df['thetnp'], df['rnp']/a )\n",
    "ax.set_rmax(1)\n",
    "#ax.set_rticks([0.2, 0.4, 0.6, 0.8])  # Less radial ticks\n",
    "ax.set_rlabel_position(-22.5)  # Move radial labels away from plotted line\n",
    "ax.grid(True)\n",
    "ax.set_title(\"Electron trajectory in poloidal crossection\", va='bottom')\n",
    "plt.show()"
   ]
  },
  {
   "cell_type": "code",
   "execution_count": null,
   "id": "fb9d21da-c92c-47f2-8980-45a68c307bf0",
   "metadata": {
    "scrolled": true
   },
   "outputs": [],
   "source": [
    "#print('rnp=',sol[nrange-1,1])\n",
    "#plt.plot(sol.t, sol.y[1]/a, 'g', label='r(t)/a')\n",
    "plt.plot(df['tnp'], df['rnp']/a, 'g', label='r(t)/a')\n",
    "plt.legend(loc='best')\n",
    "plt.xlabel('t')\n",
    "plt.grid()\n",
    "plt.show()\n"
   ]
  },
  {
   "cell_type": "code",
   "execution_count": null,
   "id": "6e94831d-43f7-4174-a6e9-97928478350c",
   "metadata": {},
   "outputs": [],
   "source": [
    "#print('r[nrange-1]=',sol[nrange-1,1])\n",
    "#plt.plot(sol.t, sol.y[1], 'g', label='r(t)')\n",
    "plt.plot(df['tnp'], df['rnp'], 'g', label='r(t)')\n",
    "plt.legend(loc='best')\n",
    "plt.xlabel('t')\n",
    "plt.grid()\n",
    "plt.show()"
   ]
  },
  {
   "cell_type": "code",
   "execution_count": null,
   "id": "1acf617e-4f4e-4aff-8598-e923b96fd82d",
   "metadata": {
    "scrolled": true
   },
   "outputs": [],
   "source": [
    "\n",
    "#plt.plot(sol.t, m01*ccc1**2*(sqrt(1+(sol.y[4])+(sol.y[0])**2)-1.)/1.6022e-12, 'r', label='energy(eV)')\n",
    "df['energy']= m01*ccc1**2*(np.sqrt(1+(pperpini)**2+(df['pparnp'])**2)-1.)/1.6022e-12\n",
    "plt.plot(df['tnp'], df['energy'], 'r', label='energy(eV)')\n",
    "plt.legend(loc='best')\n",
    "plt.xlabel('t')\n",
    "plt.grid()\n",
    "plt.show()"
   ]
  },
  {
   "cell_type": "code",
   "execution_count": null,
   "id": "6d07ec59-0f41-4e68-bfe5-84751073801f",
   "metadata": {},
   "outputs": [],
   "source": [
    "#gamnp=sqrt(1+(sol.y[4])+(sol.y[0])**2)\n",
    "\n",
    "df['gamnp']=np.sqrt(1+(pperpini)**2+(df['pparnp'])**2)\n",
    "#print(len(pperp2np),len(pparnp))\n",
    "plt.plot(df['tnp'], df['gamnp'], 'r', label='relativistic gamma factor')\n",
    "plt.legend(loc='best')\n",
    "plt.xlabel('t')\n",
    "plt.grid()\n",
    "plt.show()"
   ]
  },
  {
   "cell_type": "code",
   "execution_count": null,
   "id": "5c26ce3a-60ee-44e7-bf9c-ed38e31e2054",
   "metadata": {
    "scrolled": true
   },
   "outputs": [],
   "source": [
    "\n",
    "#plt.plot(sol.t, sol.y[2], 'g', label='thet(t)')\n",
    "plt.plot(df['tnp'], df['thetnp'], 'g', label='thet(t)')\n",
    "plt.legend(loc='best')\n",
    "plt.xlabel('t')\n",
    "plt.grid()\n",
    "plt.show()\n"
   ]
  },
  {
   "cell_type": "code",
   "execution_count": null,
   "id": "fe99c891-8b77-462f-905b-737846b996b2",
   "metadata": {},
   "outputs": [],
   "source": [
    "#print('fi[nrange-1]=',sol[nrange-1,3])\n",
    "#plt.plot(sol.t, sol.y[3], 'g', label='fi(t)')\n",
    "plt.plot(df['tnp'], df['finp'], 'g', label='fi(t)')\n",
    "plt.legend(loc='best')\n",
    "plt.xlabel('t')\n",
    "plt.grid()\n",
    "plt.show()\n"
   ]
  },
  {
   "cell_type": "code",
   "execution_count": null,
   "id": "35edfe6e-5bab-4e88-b2fd-a20eb1398484",
   "metadata": {
    "scrolled": true
   },
   "outputs": [],
   "source": [
    "#import matplotlib.pyplot as plt\n",
    "#plt.plot(sol.t, sol.y[0], 'b', label='ppar(t)')\n",
    "plt.plot(df['tnp'], df['pparnp'], 'b', label='ppar(t)')\n",
    "#plt.plot(t, abs(sqrt(p2ini-muini*sol[:,6]))*np.sign(pparini), 'g', label='pparcalc(t)')\n",
    "#plt.plot(t, abs(sqrt(p2ini-sol[:,4]))*np.sign(pparini), 'y', label='pparcalc(t)')\n",
    "plt.legend(loc='best')\n",
    "plt.xlabel('t')\n",
    "plt.grid()\n",
    "plt.show()"
   ]
  }
 ],
 "metadata": {
  "kernelspec": {
   "display_name": "electron-trajectory",
   "language": "python",
   "name": "python3"
  },
  "language_info": {
   "codemirror_mode": {
    "name": "ipython",
    "version": 3
   },
   "file_extension": ".py",
   "mimetype": "text/x-python",
   "name": "python",
   "nbconvert_exporter": "python",
   "pygments_lexer": "ipython3",
   "version": "3.13.3"
  }
 },
 "nbformat": 4,
 "nbformat_minor": 5
}
